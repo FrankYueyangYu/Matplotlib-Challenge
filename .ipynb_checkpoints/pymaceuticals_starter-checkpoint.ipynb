{
 "cells": [
  {
   "cell_type": "markdown",
   "metadata": {},
   "source": [
    "## Observations and Insights "
   ]
  },
  {
   "cell_type": "markdown",
   "metadata": {},
   "source": []
  },
  {
   "cell_type": "code",
   "execution_count": 1,
   "metadata": {
    "scrolled": true
   },
   "outputs": [
    {
     "name": "stdout",
     "output_type": "stream",
     "text": [
      "(1893, 8)\n"
     ]
    },
    {
     "data": {
      "text/html": [
       "<div>\n",
       "<style scoped>\n",
       "    .dataframe tbody tr th:only-of-type {\n",
       "        vertical-align: middle;\n",
       "    }\n",
       "\n",
       "    .dataframe tbody tr th {\n",
       "        vertical-align: top;\n",
       "    }\n",
       "\n",
       "    .dataframe thead th {\n",
       "        text-align: right;\n",
       "    }\n",
       "</style>\n",
       "<table border=\"1\" class=\"dataframe\">\n",
       "  <thead>\n",
       "    <tr style=\"text-align: right;\">\n",
       "      <th></th>\n",
       "      <th>Mouse ID</th>\n",
       "      <th>Drug Regimen</th>\n",
       "      <th>Sex</th>\n",
       "      <th>Age_months</th>\n",
       "      <th>Weight (g)</th>\n",
       "      <th>Timepoint</th>\n",
       "      <th>Tumor Volume (mm3)</th>\n",
       "      <th>Metastatic Sites</th>\n",
       "    </tr>\n",
       "  </thead>\n",
       "  <tbody>\n",
       "    <tr>\n",
       "      <th>0</th>\n",
       "      <td>k403</td>\n",
       "      <td>Ramicane</td>\n",
       "      <td>Male</td>\n",
       "      <td>21</td>\n",
       "      <td>16</td>\n",
       "      <td>0</td>\n",
       "      <td>45.000000</td>\n",
       "      <td>0</td>\n",
       "    </tr>\n",
       "    <tr>\n",
       "      <th>1</th>\n",
       "      <td>k403</td>\n",
       "      <td>Ramicane</td>\n",
       "      <td>Male</td>\n",
       "      <td>21</td>\n",
       "      <td>16</td>\n",
       "      <td>5</td>\n",
       "      <td>38.825898</td>\n",
       "      <td>0</td>\n",
       "    </tr>\n",
       "    <tr>\n",
       "      <th>2</th>\n",
       "      <td>k403</td>\n",
       "      <td>Ramicane</td>\n",
       "      <td>Male</td>\n",
       "      <td>21</td>\n",
       "      <td>16</td>\n",
       "      <td>10</td>\n",
       "      <td>35.014271</td>\n",
       "      <td>1</td>\n",
       "    </tr>\n",
       "    <tr>\n",
       "      <th>3</th>\n",
       "      <td>k403</td>\n",
       "      <td>Ramicane</td>\n",
       "      <td>Male</td>\n",
       "      <td>21</td>\n",
       "      <td>16</td>\n",
       "      <td>15</td>\n",
       "      <td>34.223992</td>\n",
       "      <td>1</td>\n",
       "    </tr>\n",
       "    <tr>\n",
       "      <th>4</th>\n",
       "      <td>k403</td>\n",
       "      <td>Ramicane</td>\n",
       "      <td>Male</td>\n",
       "      <td>21</td>\n",
       "      <td>16</td>\n",
       "      <td>20</td>\n",
       "      <td>32.997729</td>\n",
       "      <td>1</td>\n",
       "    </tr>\n",
       "  </tbody>\n",
       "</table>\n",
       "</div>"
      ],
      "text/plain": [
       "  Mouse ID Drug Regimen   Sex  Age_months  Weight (g)  Timepoint  \\\n",
       "0     k403     Ramicane  Male          21          16          0   \n",
       "1     k403     Ramicane  Male          21          16          5   \n",
       "2     k403     Ramicane  Male          21          16         10   \n",
       "3     k403     Ramicane  Male          21          16         15   \n",
       "4     k403     Ramicane  Male          21          16         20   \n",
       "\n",
       "   Tumor Volume (mm3)  Metastatic Sites  \n",
       "0           45.000000                 0  \n",
       "1           38.825898                 0  \n",
       "2           35.014271                 1  \n",
       "3           34.223992                 1  \n",
       "4           32.997729                 1  "
      ]
     },
     "execution_count": 1,
     "metadata": {},
     "output_type": "execute_result"
    }
   ],
   "source": [
    "# Dependencies and Setup\n",
    "import matplotlib.pyplot as plt\n",
    "import pandas as pd\n",
    "import scipy.stats as st\n",
    "import numpy as np\n",
    "\n",
    "# Study data files\n",
    "mouse_metadata_path = \"data/Mouse_metadata.csv\"\n",
    "study_results_path = \"data/Study_results.csv\"\n",
    "\n",
    "# Read the mouse data and the study results\n",
    "mouse_metadata = pd.read_csv(mouse_metadata_path)\n",
    "study_results = pd.read_csv(study_results_path)\n",
    "\n",
    "# Combine the data into a single dataset\n",
    "df=pd.merge(mouse_metadata,study_results,on='Mouse ID',how='outer')\n",
    "# Display the data table for preview\n",
    "\n",
    "print(df.shape)\n",
    "df.head()"
   ]
  },
  {
   "cell_type": "code",
   "execution_count": 2,
   "metadata": {},
   "outputs": [],
   "source": [
    "df.rename(columns={\"Mouse ID\":\"Mouse_ID\",\"Drug Regimen\":\"Drug_Regimen\",\"Age_months\":\"Age_Months\",\n",
    "           \"Weight (g)\":\"Weight_g\",\"Tumor Volume (mm3)\":\"Tumor_Volume_mm3\",\"Metastatic Sites\":\"Metastatic_Sites\"},inplace=True)\n"
   ]
  },
  {
   "cell_type": "code",
   "execution_count": 3,
   "metadata": {
    "scrolled": true
   },
   "outputs": [
    {
     "data": {
      "text/html": [
       "<div>\n",
       "<style scoped>\n",
       "    .dataframe tbody tr th:only-of-type {\n",
       "        vertical-align: middle;\n",
       "    }\n",
       "\n",
       "    .dataframe tbody tr th {\n",
       "        vertical-align: top;\n",
       "    }\n",
       "\n",
       "    .dataframe thead th {\n",
       "        text-align: right;\n",
       "    }\n",
       "</style>\n",
       "<table border=\"1\" class=\"dataframe\">\n",
       "  <thead>\n",
       "    <tr style=\"text-align: right;\">\n",
       "      <th></th>\n",
       "      <th>Mouse_ID</th>\n",
       "      <th>Drug_Regimen</th>\n",
       "      <th>Sex</th>\n",
       "      <th>Age_Months</th>\n",
       "      <th>Weight_g</th>\n",
       "      <th>Timepoint</th>\n",
       "      <th>Tumor_Volume_mm3</th>\n",
       "      <th>Metastatic_Sites</th>\n",
       "    </tr>\n",
       "  </thead>\n",
       "  <tbody>\n",
       "    <tr>\n",
       "      <th>0</th>\n",
       "      <td>k403</td>\n",
       "      <td>Ramicane</td>\n",
       "      <td>Male</td>\n",
       "      <td>21</td>\n",
       "      <td>16</td>\n",
       "      <td>0</td>\n",
       "      <td>45.000000</td>\n",
       "      <td>0</td>\n",
       "    </tr>\n",
       "    <tr>\n",
       "      <th>1</th>\n",
       "      <td>k403</td>\n",
       "      <td>Ramicane</td>\n",
       "      <td>Male</td>\n",
       "      <td>21</td>\n",
       "      <td>16</td>\n",
       "      <td>5</td>\n",
       "      <td>38.825898</td>\n",
       "      <td>0</td>\n",
       "    </tr>\n",
       "    <tr>\n",
       "      <th>2</th>\n",
       "      <td>k403</td>\n",
       "      <td>Ramicane</td>\n",
       "      <td>Male</td>\n",
       "      <td>21</td>\n",
       "      <td>16</td>\n",
       "      <td>10</td>\n",
       "      <td>35.014271</td>\n",
       "      <td>1</td>\n",
       "    </tr>\n",
       "    <tr>\n",
       "      <th>3</th>\n",
       "      <td>k403</td>\n",
       "      <td>Ramicane</td>\n",
       "      <td>Male</td>\n",
       "      <td>21</td>\n",
       "      <td>16</td>\n",
       "      <td>15</td>\n",
       "      <td>34.223992</td>\n",
       "      <td>1</td>\n",
       "    </tr>\n",
       "    <tr>\n",
       "      <th>4</th>\n",
       "      <td>k403</td>\n",
       "      <td>Ramicane</td>\n",
       "      <td>Male</td>\n",
       "      <td>21</td>\n",
       "      <td>16</td>\n",
       "      <td>20</td>\n",
       "      <td>32.997729</td>\n",
       "      <td>1</td>\n",
       "    </tr>\n",
       "  </tbody>\n",
       "</table>\n",
       "</div>"
      ],
      "text/plain": [
       "  Mouse_ID Drug_Regimen   Sex  Age_Months  Weight_g  Timepoint  \\\n",
       "0     k403     Ramicane  Male          21        16          0   \n",
       "1     k403     Ramicane  Male          21        16          5   \n",
       "2     k403     Ramicane  Male          21        16         10   \n",
       "3     k403     Ramicane  Male          21        16         15   \n",
       "4     k403     Ramicane  Male          21        16         20   \n",
       "\n",
       "   Tumor_Volume_mm3  Metastatic_Sites  \n",
       "0         45.000000                 0  \n",
       "1         38.825898                 0  \n",
       "2         35.014271                 1  \n",
       "3         34.223992                 1  \n",
       "4         32.997729                 1  "
      ]
     },
     "execution_count": 3,
     "metadata": {},
     "output_type": "execute_result"
    }
   ],
   "source": [
    "df.head()"
   ]
  },
  {
   "cell_type": "code",
   "execution_count": 4,
   "metadata": {
    "scrolled": true
   },
   "outputs": [
    {
     "data": {
      "text/plain": [
       "Index(['Mouse_ID', 'Drug_Regimen', 'Sex', 'Age_Months', 'Weight_g',\n",
       "       'Timepoint', 'Tumor_Volume_mm3', 'Metastatic_Sites'],\n",
       "      dtype='object')"
      ]
     },
     "execution_count": 4,
     "metadata": {},
     "output_type": "execute_result"
    }
   ],
   "source": [
    "df.columns"
   ]
  },
  {
   "cell_type": "code",
   "execution_count": 5,
   "metadata": {},
   "outputs": [
    {
     "data": {
      "text/plain": [
       "249"
      ]
     },
     "execution_count": 5,
     "metadata": {},
     "output_type": "execute_result"
    }
   ],
   "source": [
    "# Checking the number of mice.\n",
    "df.Mouse_ID.nunique()"
   ]
  },
  {
   "cell_type": "code",
   "execution_count": 6,
   "metadata": {},
   "outputs": [
    {
     "data": {
      "text/plain": [
       "(1888, 8)"
      ]
     },
     "execution_count": 6,
     "metadata": {},
     "output_type": "execute_result"
    }
   ],
   "source": [
    "# Getting the duplicate mice by ID number that shows up for Mouse ID and Timepoint. \n",
    "df=df.drop_duplicates(subset=['Mouse_ID','Timepoint'],keep='first')\n",
    "df.shape\n"
   ]
  },
  {
   "cell_type": "code",
   "execution_count": 7,
   "metadata": {},
   "outputs": [],
   "source": [
    "# Optional: Get all the data for the duplicate mouse ID. \n",
    "\n"
   ]
  },
  {
   "cell_type": "code",
   "execution_count": 8,
   "metadata": {},
   "outputs": [],
   "source": [
    "# Create a clean DataFrame by dropping the duplicate mouse by its ID.\n"
   ]
  },
  {
   "cell_type": "code",
   "execution_count": 9,
   "metadata": {},
   "outputs": [],
   "source": [
    "# Checking the number of mice in the clean DataFrame.\n"
   ]
  },
  {
   "cell_type": "markdown",
   "metadata": {},
   "source": [
    "## Summary Statistics"
   ]
  },
  {
   "cell_type": "code",
   "execution_count": 10,
   "metadata": {},
   "outputs": [],
   "source": [
    "# Generate a summary statistics table of mean, median, variance, standard deviation, and SEM of the tumor volume for each regimen\n",
    "\n",
    "# Use groupby and summary statistical methods to calculate the following properties of each drug regimen: \n",
    "# mean, median, variance, standard deviation, and SEM of the tumor volume. \n",
    "# Assemble the resulting series into a single summary dataframe.\n",
    "\n"
   ]
  },
  {
   "cell_type": "code",
   "execution_count": 11,
   "metadata": {},
   "outputs": [
    {
     "data": {
      "text/plain": [
       "0     249\n",
       "5     237\n",
       "10    222\n",
       "15    206\n",
       "20    194\n",
       "25    183\n",
       "30    171\n",
       "35    154\n",
       "40    142\n",
       "45    130\n",
       "Name: Timepoint, dtype: int64"
      ]
     },
     "execution_count": 11,
     "metadata": {},
     "output_type": "execute_result"
    }
   ],
   "source": [
    "df.Timepoint.value_counts()\n"
   ]
  },
  {
   "cell_type": "code",
   "execution_count": 12,
   "metadata": {},
   "outputs": [
    {
     "data": {
      "text/html": [
       "<div>\n",
       "<style scoped>\n",
       "    .dataframe tbody tr th:only-of-type {\n",
       "        vertical-align: middle;\n",
       "    }\n",
       "\n",
       "    .dataframe tbody tr th {\n",
       "        vertical-align: top;\n",
       "    }\n",
       "\n",
       "    .dataframe thead th {\n",
       "        text-align: right;\n",
       "    }\n",
       "</style>\n",
       "<table border=\"1\" class=\"dataframe\">\n",
       "  <thead>\n",
       "    <tr style=\"text-align: right;\">\n",
       "      <th></th>\n",
       "      <th>Count</th>\n",
       "      <th>Mean</th>\n",
       "      <th>STD</th>\n",
       "      <th>Min</th>\n",
       "      <th>1QR</th>\n",
       "      <th>2QR</th>\n",
       "      <th>3QR</th>\n",
       "      <th>Max</th>\n",
       "      <th>Variance</th>\n",
       "      <th>SEM</th>\n",
       "      <th>Median</th>\n",
       "    </tr>\n",
       "    <tr>\n",
       "      <th>Drug_Regimen</th>\n",
       "      <th></th>\n",
       "      <th></th>\n",
       "      <th></th>\n",
       "      <th></th>\n",
       "      <th></th>\n",
       "      <th></th>\n",
       "      <th></th>\n",
       "      <th></th>\n",
       "      <th></th>\n",
       "      <th></th>\n",
       "      <th></th>\n",
       "    </tr>\n",
       "  </thead>\n",
       "  <tbody>\n",
       "    <tr>\n",
       "      <th>Capomulin</th>\n",
       "      <td>25.0</td>\n",
       "      <td>40.755487</td>\n",
       "      <td>3.244887</td>\n",
       "      <td>34.559143</td>\n",
       "      <td>39.049816</td>\n",
       "      <td>41.384825</td>\n",
       "      <td>43.216925</td>\n",
       "      <td>45.798970</td>\n",
       "      <td>10.529290</td>\n",
       "      <td>0.648977</td>\n",
       "      <td>41.384825</td>\n",
       "    </tr>\n",
       "    <tr>\n",
       "      <th>Ceftamin</th>\n",
       "      <td>25.0</td>\n",
       "      <td>50.827485</td>\n",
       "      <td>3.747066</td>\n",
       "      <td>45.000000</td>\n",
       "      <td>47.059963</td>\n",
       "      <td>52.128041</td>\n",
       "      <td>53.467355</td>\n",
       "      <td>56.290887</td>\n",
       "      <td>14.040506</td>\n",
       "      <td>0.749413</td>\n",
       "      <td>52.128041</td>\n",
       "    </tr>\n",
       "    <tr>\n",
       "      <th>Infubinol</th>\n",
       "      <td>25.0</td>\n",
       "      <td>51.383443</td>\n",
       "      <td>4.168982</td>\n",
       "      <td>40.660673</td>\n",
       "      <td>49.694134</td>\n",
       "      <td>51.897959</td>\n",
       "      <td>55.026543</td>\n",
       "      <td>58.740943</td>\n",
       "      <td>17.380408</td>\n",
       "      <td>0.833796</td>\n",
       "      <td>51.897959</td>\n",
       "    </tr>\n",
       "    <tr>\n",
       "      <th>Ketapril</th>\n",
       "      <td>25.0</td>\n",
       "      <td>53.432527</td>\n",
       "      <td>4.907798</td>\n",
       "      <td>45.000000</td>\n",
       "      <td>50.485043</td>\n",
       "      <td>53.725479</td>\n",
       "      <td>57.251490</td>\n",
       "      <td>60.351757</td>\n",
       "      <td>24.086484</td>\n",
       "      <td>0.981560</td>\n",
       "      <td>53.725479</td>\n",
       "    </tr>\n",
       "    <tr>\n",
       "      <th>Naftisol</th>\n",
       "      <td>25.0</td>\n",
       "      <td>52.499395</td>\n",
       "      <td>4.784012</td>\n",
       "      <td>45.000000</td>\n",
       "      <td>48.592736</td>\n",
       "      <td>53.353053</td>\n",
       "      <td>56.492770</td>\n",
       "      <td>60.951633</td>\n",
       "      <td>22.886774</td>\n",
       "      <td>0.956802</td>\n",
       "      <td>53.353053</td>\n",
       "    </tr>\n",
       "    <tr>\n",
       "      <th>Placebo</th>\n",
       "      <td>25.0</td>\n",
       "      <td>52.540611</td>\n",
       "      <td>4.428358</td>\n",
       "      <td>45.000000</td>\n",
       "      <td>48.824274</td>\n",
       "      <td>53.392180</td>\n",
       "      <td>56.545367</td>\n",
       "      <td>60.575090</td>\n",
       "      <td>19.610351</td>\n",
       "      <td>0.885672</td>\n",
       "      <td>53.392180</td>\n",
       "    </tr>\n",
       "    <tr>\n",
       "      <th>Propriva</th>\n",
       "      <td>25.0</td>\n",
       "      <td>50.613641</td>\n",
       "      <td>3.924603</td>\n",
       "      <td>45.000000</td>\n",
       "      <td>47.021328</td>\n",
       "      <td>49.923649</td>\n",
       "      <td>53.762089</td>\n",
       "      <td>58.086310</td>\n",
       "      <td>15.402512</td>\n",
       "      <td>0.784921</td>\n",
       "      <td>49.923649</td>\n",
       "    </tr>\n",
       "    <tr>\n",
       "      <th>Ramicane</th>\n",
       "      <td>25.0</td>\n",
       "      <td>40.555988</td>\n",
       "      <td>3.202610</td>\n",
       "      <td>32.358859</td>\n",
       "      <td>38.411510</td>\n",
       "      <td>40.108578</td>\n",
       "      <td>43.183986</td>\n",
       "      <td>45.576395</td>\n",
       "      <td>10.256711</td>\n",
       "      <td>0.640522</td>\n",
       "      <td>40.108578</td>\n",
       "    </tr>\n",
       "    <tr>\n",
       "      <th>Stelasyn</th>\n",
       "      <td>24.0</td>\n",
       "      <td>52.662319</td>\n",
       "      <td>4.706067</td>\n",
       "      <td>45.000000</td>\n",
       "      <td>48.286415</td>\n",
       "      <td>52.651204</td>\n",
       "      <td>57.028163</td>\n",
       "      <td>60.855630</td>\n",
       "      <td>22.147071</td>\n",
       "      <td>0.960622</td>\n",
       "      <td>52.651204</td>\n",
       "    </tr>\n",
       "    <tr>\n",
       "      <th>Zoniferol</th>\n",
       "      <td>25.0</td>\n",
       "      <td>51.562955</td>\n",
       "      <td>4.096655</td>\n",
       "      <td>45.000000</td>\n",
       "      <td>47.542154</td>\n",
       "      <td>52.437635</td>\n",
       "      <td>54.792109</td>\n",
       "      <td>59.274800</td>\n",
       "      <td>16.782584</td>\n",
       "      <td>0.819331</td>\n",
       "      <td>52.437635</td>\n",
       "    </tr>\n",
       "  </tbody>\n",
       "</table>\n",
       "</div>"
      ],
      "text/plain": [
       "              Count       Mean       STD        Min        1QR        2QR  \\\n",
       "Drug_Regimen                                                                \n",
       "Capomulin      25.0  40.755487  3.244887  34.559143  39.049816  41.384825   \n",
       "Ceftamin       25.0  50.827485  3.747066  45.000000  47.059963  52.128041   \n",
       "Infubinol      25.0  51.383443  4.168982  40.660673  49.694134  51.897959   \n",
       "Ketapril       25.0  53.432527  4.907798  45.000000  50.485043  53.725479   \n",
       "Naftisol       25.0  52.499395  4.784012  45.000000  48.592736  53.353053   \n",
       "Placebo        25.0  52.540611  4.428358  45.000000  48.824274  53.392180   \n",
       "Propriva       25.0  50.613641  3.924603  45.000000  47.021328  49.923649   \n",
       "Ramicane       25.0  40.555988  3.202610  32.358859  38.411510  40.108578   \n",
       "Stelasyn       24.0  52.662319  4.706067  45.000000  48.286415  52.651204   \n",
       "Zoniferol      25.0  51.562955  4.096655  45.000000  47.542154  52.437635   \n",
       "\n",
       "                    3QR        Max   Variance       SEM     Median  \n",
       "Drug_Regimen                                                        \n",
       "Capomulin     43.216925  45.798970  10.529290  0.648977  41.384825  \n",
       "Ceftamin      53.467355  56.290887  14.040506  0.749413  52.128041  \n",
       "Infubinol     55.026543  58.740943  17.380408  0.833796  51.897959  \n",
       "Ketapril      57.251490  60.351757  24.086484  0.981560  53.725479  \n",
       "Naftisol      56.492770  60.951633  22.886774  0.956802  53.353053  \n",
       "Placebo       56.545367  60.575090  19.610351  0.885672  53.392180  \n",
       "Propriva      53.762089  58.086310  15.402512  0.784921  49.923649  \n",
       "Ramicane      43.183986  45.576395  10.256711  0.640522  40.108578  \n",
       "Stelasyn      57.028163  60.855630  22.147071  0.960622  52.651204  \n",
       "Zoniferol     54.792109  59.274800  16.782584  0.819331  52.437635  "
      ]
     },
     "execution_count": 12,
     "metadata": {},
     "output_type": "execute_result"
    }
   ],
   "source": [
    "summary=pd.DataFrame({'Drug_Regimen':df.groupby('Mouse_ID').first()['Drug_Regimen'],\n",
    "                      'Mean_Tumor_Size':df.groupby('Mouse_ID')['Tumor_Volume_mm3'].mean()})\n",
    "stats=pd.DataFrame(summary.groupby('Drug_Regimen').describe())\n",
    "stats.columns=['Count','Mean','STD','Min','1QR','2QR','3QR','Max']\n",
    "\n",
    "\n",
    "stats['Variance']=stats['STD']**2\n",
    "stats['SEM']=stats['STD']/np.sqrt(stats['Count'])\n",
    "stats['Median']=summary.groupby('Drug_Regimen').median()\n",
    "stats"
   ]
  },
  {
   "cell_type": "code",
   "execution_count": 13,
   "metadata": {},
   "outputs": [
    {
     "data": {
      "text/html": [
       "<div>\n",
       "<style scoped>\n",
       "    .dataframe tbody tr th:only-of-type {\n",
       "        vertical-align: middle;\n",
       "    }\n",
       "\n",
       "    .dataframe tbody tr th {\n",
       "        vertical-align: top;\n",
       "    }\n",
       "\n",
       "    .dataframe thead th {\n",
       "        text-align: right;\n",
       "    }\n",
       "</style>\n",
       "<table border=\"1\" class=\"dataframe\">\n",
       "  <thead>\n",
       "    <tr style=\"text-align: right;\">\n",
       "      <th></th>\n",
       "      <th>mean</th>\n",
       "      <th>median</th>\n",
       "      <th>var</th>\n",
       "      <th>std</th>\n",
       "      <th>sem</th>\n",
       "    </tr>\n",
       "    <tr>\n",
       "      <th>Drug_Regimen</th>\n",
       "      <th></th>\n",
       "      <th></th>\n",
       "      <th></th>\n",
       "      <th></th>\n",
       "      <th></th>\n",
       "    </tr>\n",
       "  </thead>\n",
       "  <tbody>\n",
       "    <tr>\n",
       "      <th>Capomulin</th>\n",
       "      <td>40.755487</td>\n",
       "      <td>41.384825</td>\n",
       "      <td>10.529290</td>\n",
       "      <td>3.244887</td>\n",
       "      <td>0.648977</td>\n",
       "    </tr>\n",
       "    <tr>\n",
       "      <th>Ceftamin</th>\n",
       "      <td>50.827485</td>\n",
       "      <td>52.128041</td>\n",
       "      <td>14.040506</td>\n",
       "      <td>3.747066</td>\n",
       "      <td>0.749413</td>\n",
       "    </tr>\n",
       "    <tr>\n",
       "      <th>Infubinol</th>\n",
       "      <td>51.383443</td>\n",
       "      <td>51.897959</td>\n",
       "      <td>17.380408</td>\n",
       "      <td>4.168982</td>\n",
       "      <td>0.833796</td>\n",
       "    </tr>\n",
       "    <tr>\n",
       "      <th>Ketapril</th>\n",
       "      <td>53.432527</td>\n",
       "      <td>53.725479</td>\n",
       "      <td>24.086484</td>\n",
       "      <td>4.907798</td>\n",
       "      <td>0.981560</td>\n",
       "    </tr>\n",
       "    <tr>\n",
       "      <th>Naftisol</th>\n",
       "      <td>52.499395</td>\n",
       "      <td>53.353053</td>\n",
       "      <td>22.886774</td>\n",
       "      <td>4.784012</td>\n",
       "      <td>0.956802</td>\n",
       "    </tr>\n",
       "    <tr>\n",
       "      <th>Placebo</th>\n",
       "      <td>52.540611</td>\n",
       "      <td>53.392180</td>\n",
       "      <td>19.610351</td>\n",
       "      <td>4.428358</td>\n",
       "      <td>0.885672</td>\n",
       "    </tr>\n",
       "    <tr>\n",
       "      <th>Propriva</th>\n",
       "      <td>50.613641</td>\n",
       "      <td>49.923649</td>\n",
       "      <td>15.402512</td>\n",
       "      <td>3.924603</td>\n",
       "      <td>0.784921</td>\n",
       "    </tr>\n",
       "    <tr>\n",
       "      <th>Ramicane</th>\n",
       "      <td>40.555988</td>\n",
       "      <td>40.108578</td>\n",
       "      <td>10.256711</td>\n",
       "      <td>3.202610</td>\n",
       "      <td>0.640522</td>\n",
       "    </tr>\n",
       "    <tr>\n",
       "      <th>Stelasyn</th>\n",
       "      <td>52.662319</td>\n",
       "      <td>52.651204</td>\n",
       "      <td>22.147071</td>\n",
       "      <td>4.706067</td>\n",
       "      <td>0.960622</td>\n",
       "    </tr>\n",
       "    <tr>\n",
       "      <th>Zoniferol</th>\n",
       "      <td>51.562955</td>\n",
       "      <td>52.437635</td>\n",
       "      <td>16.782584</td>\n",
       "      <td>4.096655</td>\n",
       "      <td>0.819331</td>\n",
       "    </tr>\n",
       "  </tbody>\n",
       "</table>\n",
       "</div>"
      ],
      "text/plain": [
       "                   mean     median        var       std       sem\n",
       "Drug_Regimen                                                     \n",
       "Capomulin     40.755487  41.384825  10.529290  3.244887  0.648977\n",
       "Ceftamin      50.827485  52.128041  14.040506  3.747066  0.749413\n",
       "Infubinol     51.383443  51.897959  17.380408  4.168982  0.833796\n",
       "Ketapril      53.432527  53.725479  24.086484  4.907798  0.981560\n",
       "Naftisol      52.499395  53.353053  22.886774  4.784012  0.956802\n",
       "Placebo       52.540611  53.392180  19.610351  4.428358  0.885672\n",
       "Propriva      50.613641  49.923649  15.402512  3.924603  0.784921\n",
       "Ramicane      40.555988  40.108578  10.256711  3.202610  0.640522\n",
       "Stelasyn      52.662319  52.651204  22.147071  4.706067  0.960622\n",
       "Zoniferol     51.562955  52.437635  16.782584  4.096655  0.819331"
      ]
     },
     "execution_count": 13,
     "metadata": {},
     "output_type": "execute_result"
    }
   ],
   "source": [
    "# Generate a summary statistics table of mean, median, variance, standard deviation, and SEM of the tumor volume for each regimen\n",
    "\n",
    "# Using the aggregation method, produce the same summary statistics in a single line\n",
    "pdagg=summary.groupby('Drug_Regimen')['Mean_Tumor_Size'].agg(['mean','median','var','std','sem'])\n",
    "pdagg"
   ]
  },
  {
   "cell_type": "markdown",
   "metadata": {},
   "source": [
    "## Bar and Pie Charts"
   ]
  },
  {
   "cell_type": "code",
   "execution_count": 14,
   "metadata": {},
   "outputs": [
    {
     "data": {
      "text/plain": [
       "Drug_Regimen\n",
       "Capomulin    230\n",
       "Ceftamin     178\n",
       "Infubinol    178\n",
       "Ketapril     188\n",
       "Naftisol     186\n",
       "Placebo      181\n",
       "Propriva     156\n",
       "Ramicane     228\n",
       "Stelasyn     181\n",
       "Zoniferol    182\n",
       "dtype: int64"
      ]
     },
     "execution_count": 14,
     "metadata": {},
     "output_type": "execute_result"
    }
   ],
   "source": [
    "df.groupby(\"Drug_Regimen\").size()"
   ]
  },
  {
   "cell_type": "code",
   "execution_count": 15,
   "metadata": {},
   "outputs": [
    {
     "data": {
      "image/png": "[encoded data removed]",
      "text/plain": [
       "<Figure size 432x288 with 1 Axes>"
      ]
     },
     "metadata": {
      "needs_background": "light"
     },
     "output_type": "display_data"
    }
   ],
   "source": [
    "# Generate a bar plot showing the total number of measurements taken on each drug regimen using pandas.\n",
    "\n",
    "total_measurements=pd.DataFrame(df.groupby(\"Drug_Regimen\").size())\n",
    "total_measurements.columns=['Total_Measurements']\n",
    "total_measurements.plot(kind='barh',legend=None)\n",
    "plt.xlabel('Total_Measurements')\n",
    "plt.show()"
   ]
  },
  {
   "cell_type": "code",
   "execution_count": 16,
   "metadata": {},
   "outputs": [
    {
     "data": {
      "image/png": "[encoded data removed]",
      "text/plain": [
       "<Figure size 432x288 with 1 Axes>"
      ]
     },
     "metadata": {
      "needs_background": "light"
     },
     "output_type": "display_data"
    }
   ],
   "source": [
    "# Generate a bar plot showing the total number of measurements taken on each drug regimen using pyplot.\n",
    "plt.barh(df.groupby(\"Drug_Regimen\").size().index,df.groupby(\"Drug_Regimen\").size())\n",
    "plt.xlabel('Total_Measurements')\n",
    "plt.ylabel('Drug_Regimen')\n",
    "plt.show()"
   ]
  },
  {
   "cell_type": "code",
   "execution_count": 17,
   "metadata": {},
   "outputs": [
    {
     "data": {
      "image/png": "[encoded data removed]",
      "text/plain": [
       "<Figure size 432x288 with 1 Axes>"
      ]
     },
     "metadata": {},
     "output_type": "display_data"
    }
   ],
   "source": [
    "# Generate a pie plot showing the distribution of female versus male mice using pandas\n",
    "\n",
    "malefemale=pd.DataFrame(df.groupby('Sex').size())\n",
    "malefemale.columns=['Total_Mice']\n",
    "malefemale.plot(kind='pie',subplots=True,autopct='%.1f%%')\n",
    "\n",
    "plt.show()"
   ]
  },
  {
   "cell_type": "code",
   "execution_count": 18,
   "metadata": {},
   "outputs": [
    {
     "data": {
      "image/png": "[encoded data removed]",
      "text/plain": [
       "<Figure size 432x288 with 1 Axes>"
      ]
     },
     "metadata": {},
     "output_type": "display_data"
    }
   ],
   "source": [
    "# Generate a pie plot showing the distribution of female versus male mice using pyplot\n",
    "plt.pie(df.groupby('Sex').size(),labels=['Female','Male'],autopct='%.1f%%')\n",
    "plt.legend()\n",
    "plt.ylabel('Total_Mice',loc='center')\n",
    "plt.show()"
   ]
  },
  {
   "cell_type": "markdown",
   "metadata": {},
   "source": [
    "## Quartiles, Outliers and Boxplots"
   ]
  },
  {
   "cell_type": "code",
   "execution_count": 19,
   "metadata": {},
   "outputs": [],
   "source": [
    "# Calculate the final tumor volume of each mouse across four of the treatment regimens:  \n",
    "# Capomulin, Ramicane, Infubinol, and Ceftamin\n",
    "\n",
    "# Start by getting the last (greatest) timepoint for each mouse\n",
    "\n",
    "\n",
    "# Merge this group df with the original dataframe to get the tumor volume abt the last timepoint\n"
   ]
  },
  {
   "cell_type": "code",
   "execution_count": 20,
   "metadata": {
    "scrolled": false
   },
   "outputs": [
    {
     "data": {
      "text/html": [
       "<div>\n",
       "<style scoped>\n",
       "    .dataframe tbody tr th:only-of-type {\n",
       "        vertical-align: middle;\n",
       "    }\n",
       "\n",
       "    .dataframe tbody tr th {\n",
       "        vertical-align: top;\n",
       "    }\n",
       "\n",
       "    .dataframe thead th {\n",
       "        text-align: right;\n",
       "    }\n",
       "</style>\n",
       "<table border=\"1\" class=\"dataframe\">\n",
       "  <thead>\n",
       "    <tr style=\"text-align: right;\">\n",
       "      <th></th>\n",
       "      <th>Mouse_ID</th>\n",
       "      <th>Timepoint</th>\n",
       "      <th>Drug_Regimen</th>\n",
       "      <th>Sex</th>\n",
       "      <th>Age_Months</th>\n",
       "      <th>Weight_g</th>\n",
       "      <th>Tumor_Volume_mm3</th>\n",
       "      <th>Metastatic_Sites</th>\n",
       "    </tr>\n",
       "  </thead>\n",
       "  <tbody>\n",
       "    <tr>\n",
       "      <th>0</th>\n",
       "      <td>a203</td>\n",
       "      <td>45</td>\n",
       "      <td>Infubinol</td>\n",
       "      <td>Female</td>\n",
       "      <td>20</td>\n",
       "      <td>23</td>\n",
       "      <td>67.973419</td>\n",
       "      <td>2</td>\n",
       "    </tr>\n",
       "    <tr>\n",
       "      <th>1</th>\n",
       "      <td>a251</td>\n",
       "      <td>45</td>\n",
       "      <td>Infubinol</td>\n",
       "      <td>Female</td>\n",
       "      <td>21</td>\n",
       "      <td>25</td>\n",
       "      <td>65.525743</td>\n",
       "      <td>1</td>\n",
       "    </tr>\n",
       "    <tr>\n",
       "      <th>2</th>\n",
       "      <td>a262</td>\n",
       "      <td>45</td>\n",
       "      <td>Placebo</td>\n",
       "      <td>Female</td>\n",
       "      <td>17</td>\n",
       "      <td>29</td>\n",
       "      <td>70.717621</td>\n",
       "      <td>4</td>\n",
       "    </tr>\n",
       "    <tr>\n",
       "      <th>3</th>\n",
       "      <td>a275</td>\n",
       "      <td>45</td>\n",
       "      <td>Ceftamin</td>\n",
       "      <td>Female</td>\n",
       "      <td>20</td>\n",
       "      <td>28</td>\n",
       "      <td>62.999356</td>\n",
       "      <td>3</td>\n",
       "    </tr>\n",
       "    <tr>\n",
       "      <th>4</th>\n",
       "      <td>a366</td>\n",
       "      <td>30</td>\n",
       "      <td>Stelasyn</td>\n",
       "      <td>Female</td>\n",
       "      <td>16</td>\n",
       "      <td>29</td>\n",
       "      <td>63.440686</td>\n",
       "      <td>1</td>\n",
       "    </tr>\n",
       "  </tbody>\n",
       "</table>\n",
       "</div>"
      ],
      "text/plain": [
       "  Mouse_ID  Timepoint Drug_Regimen     Sex  Age_Months  Weight_g  \\\n",
       "0     a203         45    Infubinol  Female          20        23   \n",
       "1     a251         45    Infubinol  Female          21        25   \n",
       "2     a262         45      Placebo  Female          17        29   \n",
       "3     a275         45     Ceftamin  Female          20        28   \n",
       "4     a366         30     Stelasyn  Female          16        29   \n",
       "\n",
       "   Tumor_Volume_mm3  Metastatic_Sites  \n",
       "0         67.973419                 2  \n",
       "1         65.525743                 1  \n",
       "2         70.717621                 4  \n",
       "3         62.999356                 3  \n",
       "4         63.440686                 1  "
      ]
     },
     "execution_count": 20,
     "metadata": {},
     "output_type": "execute_result"
    }
   ],
   "source": [
    "final_timepoint=df.groupby('Mouse_ID')['Timepoint'].max().reset_index()\n",
    "final_volume=pd.merge(final_timepoint,df,how='left',on=['Mouse_ID','Timepoint'])\n",
    "final_volume.head()"
   ]
  },
  {
   "cell_type": "code",
   "execution_count": 21,
   "metadata": {
    "scrolled": true
   },
   "outputs": [
    {
     "name": "stdout",
     "output_type": "stream",
     "text": [
      "Capomulin values below 20.70456164999999 or above 51.83201549 are outliers\n",
      "Ramicane values below 17.912664470000003 or above 54.30681135 are outliers\n",
      "Infubinol values below 36.83290494999999 or above 82.74144559000001 are outliers\n",
      "Ceftamin values below 25.355449580000002 or above 87.66645829999999 are outliers\n"
     ]
    }
   ],
   "source": [
    "# Put treatments into a list for for loop (and later for plot labels)\n",
    "treatment=['Capomulin', 'Ramicane', 'Infubinol', 'Ceftamin']\n",
    "\n",
    "# Create empty list to fill with tumor vol data (for plotting)\n",
    "Capomulin_vol=final_volume.loc[final_volume['Drug_Regimen']=='Capomulin','Tumor_Volume_mm3'].tolist()\n",
    "Ramicane_vol=[y for x,y in zip(final_volume['Drug_Regimen'],final_volume['Tumor_Volume_mm3']) \n",
    "          if x=='Ramicane']\n",
    "Infubinol_vol=[y for x,y in zip(final_volume['Drug_Regimen'],final_volume['Tumor_Volume_mm3'])\n",
    "          if x=='Infubinol']\n",
    "Ceftamin_vol=[y for x,y in zip(final_volume['Drug_Regimen'],final_volume['Tumor_Volume_mm3'])\n",
    "          if x=='Ceftamin']\n",
    "\n",
    "\n",
    "# Calculate the IQR and quantitatively determine if there are any potential outliers. \n",
    "Capomulin_qt=pd.Series(Capomulin_vol).quantile([.25,.5,.75])\n",
    "print(f\"Capomulin values below {Capomulin_qt[0.25]-(Capomulin_qt[0.75] -Capomulin_qt[0.25])*1.5} or above {Capomulin_qt[0.75]+(Capomulin_qt[0.75]-Capomulin_qt[0.25])*1.5} are outliers\")\n",
    "\n",
    "Ramicane_qt=pd.Series(Ramicane_vol).quantile([.25,.5,.75])\n",
    "print(f\"Ramicane values below {Ramicane_qt[0.25]-(Ramicane_qt[0.75]-Ramicane_qt[0.25])*1.5} or above {Ramicane_qt[0.75]+(Ramicane_qt[0.75]-Ramicane_qt[0.25])*1.5} are outliers\")\n",
    "\n",
    "Infubinol_qt=pd.Series(Infubinol_vol).quantile([.25,.5,.75]) \n",
    "print(f\"Infubinol values below {Infubinol_qt[0.25]-(Infubinol_qt[0.75]-Infubinol_qt[0.25])*1.5} or above {Infubinol_qt[0.75]+(Infubinol_qt[0.75]-Infubinol_qt[0.25])*1.5} are outliers\")\n",
    "\n",
    "Ceftamin_qt=pd.Series(Ceftamin_vol).quantile([.25,.5,.75]) \n",
    "print(f\"Ceftamin values below {Ceftamin_qt[0.25]-(Ceftamin_qt[0.75]-Ceftamin_qt[0.25])*1.5} or above {Ceftamin_qt[0.75]+(Ceftamin_qt[0.75]-Ceftamin_qt[0.25])*1.5} are outliers\")\n",
    "\n",
    "\n",
    "    \n",
    "    # Locate the rows which contain mice on each drug and get the tumor volumes\n",
    "    \n",
    "    \n",
    "    # add subset \n",
    "    \n",
    "    \n",
    "    # Determine outliers using upper and lower bounds\n",
    "    "
   ]
  },
  {
   "cell_type": "code",
   "execution_count": 22,
   "metadata": {
    "scrolled": true
   },
   "outputs": [
    {
     "data": {
      "image/png": "[encoded data removed]",
      "text/plain": [
       "<Figure size 432x288 with 1 Axes>"
      ]
     },
     "metadata": {
      "needs_background": "light"
     },
     "output_type": "display_data"
    }
   ],
   "source": [
    "# Generate a box plot of the final tumor volume of each mouse across four regimens of interest\n",
    "plt.boxplot([Capomulin_vol,Ramicane_vol,Infubinol_vol,Ceftamin_vol],0,'red',labels=treatment)\n",
    "plt.ylabel('Tumor_Volume')\n",
    "plt.show()\n",
    "\n"
   ]
  },
  {
   "cell_type": "markdown",
   "metadata": {},
   "source": [
    "## Line and Scatter Plots"
   ]
  },
  {
   "cell_type": "code",
   "execution_count": 23,
   "metadata": {},
   "outputs": [],
   "source": [
    "# Generate a line plot of tumor volume vs. time point for a mouse treated with Capomulin\n"
   ]
  },
  {
   "cell_type": "code",
   "execution_count": 24,
   "metadata": {
    "scrolled": true
   },
   "outputs": [],
   "source": [
    "Cap_df=df.loc[df['Drug_Regimen']=='Capomulin']\n",
    "Cap_vol=Cap_df.filter(items=['Mouse_ID','Timepoint','Tumor_Volume_mm3'])\n",
    "\n",
    "Cap_sort=Cap_vol.sort_values(['Mouse_ID','Timepoint'],ascending=True).groupby([\"Mouse_ID\"])['Tumor_Volume_mm3'].apply(lambda Cap_vol: Cap_vol.reset_index(drop=True)).unstack()\n",
    "Cap_sort=Cap_sort.transpose()\n",
    "Cap_sort.index=['0','5','10','15','20','25','30','35','40','45']\n"
   ]
  },
  {
   "cell_type": "code",
   "execution_count": 25,
   "metadata": {},
   "outputs": [
    {
     "data": {
      "text/plain": [
       "array([ 0,  5, 10, 15, 20, 25, 30, 35, 40, 45])"
      ]
     },
     "execution_count": 25,
     "metadata": {},
     "output_type": "execute_result"
    }
   ],
   "source": [
    "x=np.arange(0,50,5)\n",
    "x"
   ]
  },
  {
   "cell_type": "code",
   "execution_count": 26,
   "metadata": {
    "scrolled": true
   },
   "outputs": [
    {
     "data": {
      "image/png": "[encoded data removed]",
      "text/plain": [
       "<Figure size 720x360 with 1 Axes>"
      ]
     },
     "metadata": {
      "needs_background": "light"
     },
     "output_type": "display_data"
    }
   ],
   "source": [
    "Cap_sort.plot(kind='line',figsize=(10,5))\n",
    "plt.legend(loc='center left')\n",
    "plt.ylabel('Tumor_Volume_mm3')\n",
    "plt.xlabel('Timepoint')\n",
    "plt.show()\n"
   ]
  },
  {
   "cell_type": "code",
   "execution_count": 27,
   "metadata": {},
   "outputs": [
    {
     "data": {
      "image/png": "[encoded data removed]",
      "text/plain": [
       "<Figure size 432x288 with 1 Axes>"
      ]
     },
     "metadata": {
      "needs_background": "light"
     },
     "output_type": "display_data"
    }
   ],
   "source": [
    "# Generate a scatter plot of average tumor volume vs. mouse weight for the Capomulin regimen\n",
    "plt.scatter(Cap_df.groupby('Mouse_ID')['Weight_g'].first(),Cap_df.groupby('Mouse_ID')['Tumor_Volume_mm3'].mean())\n",
    "plt.xlabel('Weight_g')\n",
    "plt.ylabel('Tumor_Volume_mm3')\n",
    "plt.show()"
   ]
  },
  {
   "cell_type": "markdown",
   "metadata": {},
   "source": [
    "## Correlation and Regression"
   ]
  },
  {
   "cell_type": "code",
   "execution_count": 28,
   "metadata": {},
   "outputs": [
    {
     "name": "stdout",
     "output_type": "stream",
     "text": [
      "R-Squared is 0.7088568047708717\n"
     ]
    },
    {
     "data": {
      "image/png": "[encoded data removed]",
      "text/plain": [
       "<Figure size 432x288 with 1 Axes>"
      ]
     },
     "metadata": {
      "needs_background": "light"
     },
     "output_type": "display_data"
    }
   ],
   "source": [
    "# Calculate the correlation coefficient and linear regression model \n",
    "# for mouse weight and average tumor volume for the Capomulin regimen\n",
    "x_values=Cap_df.groupby('Mouse_ID')['Weight_g'].first()\n",
    "y_values=Cap_df.groupby('Mouse_ID')['Tumor_Volume_mm3'].mean()\n",
    "\n",
    "(slope, intercept, rvalue, pvalue, stderr) = st.linregress(x_values, y_values)\n",
    "regress_values = x_values * slope + intercept\n",
    "line_eq = \"y = \" + str(round(slope,2)) + \"x + \" + str(round(intercept,2))\n",
    "plt.scatter(Cap_df.groupby('Mouse_ID')['Weight_g'].first(),Cap_df.groupby('Mouse_ID')['Tumor_Volume_mm3'].mean())\n",
    "plt.xlabel('Weight_g')\n",
    "plt.ylabel('Tumor_Volume_mm3')\n",
    "plt.plot(x_values,regress_values,\"r-\")\n",
    "plt.annotate(line_eq,(20,38),fontsize=15,color=\"red\")\n",
    "print(f'R-Squared is {rvalue**2}')\n",
    "plt.show()"
   ]
  },
  {
   "cell_type": "markdown",
   "metadata": {},
   "source": [
    "#### Analysis #### \n",
    " 1. On Average, mice treated with Capomulin and Ramicane lived the longest, and the tumor volume also remained the lowest.\n",
    " 2. Mice treated with Capomulin and Ramicane akso has the lowest tumor volume standard deviation, so the effect of those drugs are relatively consistent. \n",
    " 3. The tumor volume is somewhat positively correlated with body weight, and it might because of the extra nutrients available."
   ]
  }
 ],
 "metadata": {
  "anaconda-cloud": {},
  "kernelspec": {
   "display_name": "Python 3",
   "language": "python",
   "name": "python3"
  },
  "language_info": {
   "codemirror_mode": {
    "name": "ipython",
    "version": 3
   },
   "file_extension": ".py",
   "mimetype": "text/x-python",
   "name": "python",
   "nbconvert_exporter": "python",
   "pygments_lexer": "ipython3",
   "version": "3.8.5"
  }
 },
 "nbformat": 4,
 "nbformat_minor": 4
}
